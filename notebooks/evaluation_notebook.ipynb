{
 "cells": [
  {
   "cell_type": "markdown",
   "metadata": {},
   "source": [
    "# Evalutation Notebook"
   ]
  },
  {
   "cell_type": "markdown",
   "metadata": {},
   "source": [
    "This is the notebook to be used for an interactive evaluation of a measurement. The notebook uses functions and/or classes as defined in the `evaluation_semantics` module. This module is shared with the `evaluation_dashboard` which is better used when no code in between the plots/evaluations should be shown.\n",
    "\n",
    "The usage is quite similar to MATLAB (blocks), simply execute each block by `<ctrl> + <enter>`. This allows for a truely interactive evaluation session."
   ]
  },
  {
   "cell_type": "code",
   "execution_count": null,
   "metadata": {},
   "outputs": [],
   "source": [
    "from evaluation_semantics.timestamps import TimestampEvaluation\n",
    "from evaluation_semantics.measurement_count import MeasurementCountEvaluation\n",
    "from evaluation_semantics.correlation_matrix import CorrelationMatrixEvaluation\n",
    "from evaluation_semantics.echo_property_histogram import EchoPropertyHistogramEvaluation\n",
    "\n",
    "from data_adapter.dummy_json_data_adapter import DummyJsonDataAdapter\n",
    "from pathlib import Path"
   ]
  },
  {
   "cell_type": "markdown",
   "metadata": {},
   "source": [
    "## Load the data\n",
    "Instantiate all evaluation classes as implemented in `../evaluation_semantics/*` with the read-in data."
   ]
  },
  {
   "cell_type": "code",
   "execution_count": null,
   "metadata": {},
   "outputs": [],
   "source": [
    "filename = Path(\"./data\" / \"dummy.json\")\n",
    "    \n",
    "adapter = DummyJsonDataAdapter(filename)\n",
    "timestamp_evaluation = TimestampEvaluation(adapter, mode=\"notebook\")\n",
    "measurement_count_evaluation = MeasurementCountEvaluation(adapter, mode=\"notebook\")\n",
    "correlation_matrix_evaluation = CorrelationMatrixEvaluation(adapter, mode=\"notebook\")\n",
    "echo_property_histogram_evaluation = EchoPropertyHistogramEvaluation(adapter, mode=\"notebook\")"
   ]
  },
  {
   "cell_type": "markdown",
   "metadata": {},
   "source": [
    "## Show the individual plots and evaluations"
   ]
  },
  {
   "cell_type": "markdown",
   "metadata": {},
   "source": [
    "### Timestamp evaluation"
   ]
  },
  {
   "cell_type": "code",
   "execution_count": null,
   "metadata": {},
   "outputs": [],
   "source": [
    "timestamp_evaluation.get_figure().show()"
   ]
  },
  {
   "cell_type": "markdown",
   "metadata": {},
   "source": [
    "### Measurement count evaluation"
   ]
  },
  {
   "cell_type": "code",
   "execution_count": null,
   "metadata": {},
   "outputs": [],
   "source": [
    "measurement_count_evaluation.get_figure().show()"
   ]
  },
  {
   "cell_type": "markdown",
   "metadata": {},
   "source": [
    "### Correlation matrix evaluation"
   ]
  },
  {
   "cell_type": "code",
   "execution_count": null,
   "metadata": {},
   "outputs": [],
   "source": [
    "correlation_matrix_evaluation.get_figure().show()"
   ]
  },
  {
   "cell_type": "markdown",
   "metadata": {},
   "source": [
    "### Echo distance histogram"
   ]
  },
  {
   "cell_type": "code",
   "execution_count": null,
   "metadata": {},
   "outputs": [],
   "source": [
    "# Use one of \"echo_distance\", \"amplitude\", \"significance\", \"trace_probability\", \"sending_code\"\n",
    "# \"echo_filtered\" or \"group_filtered\" as parameter.\n",
    "value = \"significance\"\n",
    "echo_property_histogram_evaluation.get_figure([value]).show()"
   ]
  }
 ],
 "metadata": {
  "kernelspec": {
   "display_name": "Python 3 (ipykernel)",
   "language": "python",
   "name": "python3"
  },
  "language_info": {
   "codemirror_mode": {
    "name": "ipython",
    "version": 3
   },
   "file_extension": ".py",
   "mimetype": "text/x-python",
   "name": "python",
   "nbconvert_exporter": "python",
   "pygments_lexer": "ipython3",
   "version": "3.10.12"
  }
 },
 "nbformat": 4,
 "nbformat_minor": 4
}
